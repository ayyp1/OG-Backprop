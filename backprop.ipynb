{
 "cells": [
  {
   "cell_type": "code",
   "execution_count": 122,
   "metadata": {},
   "outputs": [],
   "source": [
    "import numpy as np \n",
    "import pandas as pd \n",
    "import math\n"
   ]
  },
  {
   "cell_type": "code",
   "execution_count": 350,
   "metadata": {},
   "outputs": [],
   "source": [
    "\n",
    "parameters = {'w00' : 0.4 , 'w01' : 0.1 , 'w02' : -0.1 , 'w03' : -0.1  , 'w10' : -0.06  , 'w11' : -0.4  }\n",
    "l_rate = 0.45\n",
    "beta = 0.9\n",
    "\n",
    "x = [0 , 0 , 1 , 1]\n",
    "y = [0 , 1, 0 , 1]\n",
    "\n",
    "t = [0 , 0 , 0 , 1]\n",
    "\n",
    "\n",
    "epoch = input(\"enter the number of epochs \")\n"
   ]
  },
  {
   "cell_type": "code",
   "execution_count": 351,
   "metadata": {},
   "outputs": [],
   "source": [
    "def sig(x): \n",
    "    return 1/(1+np.exp(-x))\n"
   ]
  },
  {
   "cell_type": "code",
   "execution_count": 352,
   "metadata": {},
   "outputs": [],
   "source": [
    "def forward(cond): \n",
    "    count = 0\n",
    "    pred = []\n",
    "    w00 = parameters['w00']\n",
    "    w01 = parameters['w01']\n",
    "    w02 = parameters['w02']\n",
    "    w03 = parameters['w03']\n",
    "    w10 = parameters['w10']\n",
    "    w11 = parameters['w11']    \n",
    "    while True: \n",
    "        n10 = sig(w00 * x[count] + w01 * y[count])\n",
    "        n11 = sig(w02 * x[count] + w03 * y[count])\n",
    "        n20 = sig(w10 * n10 + w11 * n11)\n",
    "        error = n20 * (1- n20)**2 \n",
    "        if cond == 0 : \n",
    "            backward(n10 , n11 , n20 , t[count] , x[count] , y[count])\n",
    "        count = count + 1 \n",
    "        pred.append(n20)\n",
    "        if not count != 4:\n",
    "            break\n",
    "    return error , pred \n",
    "\n",
    "\n",
    "\n"
   ]
  },
  {
   "cell_type": "code",
   "execution_count": 353,
   "metadata": {},
   "outputs": [],
   "source": [
    "def backward(x, y ,z ,t , a , b  ): \n",
    "    w00 = parameters['w00']\n",
    "    w01 = parameters['w01']\n",
    "    w02 = parameters['w02']\n",
    "    w03 = parameters['w03']\n",
    "    w10 = parameters['w10']\n",
    "    w11 = parameters['w11'] \n",
    "    ini_error = z * (1-z)**2 \n",
    "    del_w10 = l_rate * ini_error * x \n",
    "    w10 = w10 + del_w10 + (beta * (t - 1))\n",
    "    del_w11 = l_rate * ini_error * y\n",
    "    w11 = w11+ del_w11 + (beta * (t - 1))\n",
    "    n10_err = ini_error * w10 \n",
    "    n11_err = ini_error * w11\n",
    "    del_w00 = l_rate * n10_err * a\n",
    "    del_w01 = l_rate * n10_err * b \n",
    "    del_w02 = l_rate * n11_err * a \n",
    "    del_w03 = l_rate * n11_err * b \n",
    "    w00 = w00 + del_w00 + (beta * (t-1))\n",
    "    w01 = w01 + del_w01 + (beta * (t-1))\n",
    "    w02 = w02 + del_w02 + (beta * (t-1))\n",
    "    w03 = w03 + del_w03 + (beta * (t-1))\n",
    "    parameters['w00'] =  w00 \n",
    "    parameters['w01'] =  w01\n",
    "    parameters['w02'] =  w02\n",
    "    parameters['w03'] =  w03\n",
    "    parameters['w10'] =  w10\n",
    "    parameters['w11'] =  w11\n",
    "\n",
    "\n",
    "    \n",
    "\n",
    "\n",
    "    \n",
    "    \n",
    "\n"
   ]
  },
  {
   "cell_type": "code",
   "execution_count": 358,
   "metadata": {},
   "outputs": [
    {
     "name": "stdout",
     "output_type": "stream",
     "text": [
      "[np.float64(0.0), np.float64(0.0), np.float64(0.0), np.float64(0.0)]\n"
     ]
    }
   ],
   "source": [
    "for i in range(epoch):\n",
    "   error , prediction =  forward(0)\n",
    "for pred in range(n):\n",
    "   prediction[pred]= (prediction[pred] > 0.5) * 1.0  \n",
    "print(prediction)\n",
    "\n",
    "\n",
    "    \n",
    "    \n",
    "    \n"
   ]
  },
  {
   "cell_type": "code",
   "execution_count": 359,
   "metadata": {},
   "outputs": [
    {
     "name": "stdout",
     "output_type": "stream",
     "text": [
      "0.125\n",
      "[np.float64(6.112234002786533e-36), np.float64(0.5), np.float64(0.5), np.float64(0.5)]\n"
     ]
    }
   ],
   "source": [
    "x = [0 , 0 , 1, 1 ]\n",
    "y = [0 ,1, 1 ,1]\n",
    "error , prediction =  forward(1)\n",
    "n = len(prediction)\n",
    "# for pred in range(n):\n",
    "#     prediction[pred]= (prediction[pred] > 0.5) * 1.0  \n",
    "print (error) \n",
    "print (prediction) \n",
    "    "
   ]
  },
  {
   "cell_type": "code",
   "execution_count": null,
   "metadata": {},
   "outputs": [],
   "source": []
  },
  {
   "cell_type": "code",
   "execution_count": null,
   "metadata": {},
   "outputs": [],
   "source": []
  },
  {
   "cell_type": "code",
   "execution_count": null,
   "metadata": {},
   "outputs": [],
   "source": []
  },
  {
   "cell_type": "code",
   "execution_count": null,
   "metadata": {},
   "outputs": [],
   "source": []
  }
 ],
 "metadata": {
  "kernelspec": {
   "display_name": "tryenv",
   "language": "python",
   "name": "python3"
  },
  "language_info": {
   "codemirror_mode": {
    "name": "ipython",
    "version": 3
   },
   "file_extension": ".py",
   "mimetype": "text/x-python",
   "name": "python",
   "nbconvert_exporter": "python",
   "pygments_lexer": "ipython3",
   "version": "3.13.0"
  }
 },
 "nbformat": 4,
 "nbformat_minor": 2
}
